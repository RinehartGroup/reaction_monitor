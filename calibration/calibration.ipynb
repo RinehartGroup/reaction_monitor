{
 "cells": [
  {
   "cell_type": "code",
   "execution_count": 1,
   "metadata": {},
   "outputs": [],
   "source": [
    "import json\n",
    "from pathlib import Path\n",
    "\n",
    "import numpy as np\n",
    "import pandas as pd\n",
    "from scipy.stats import linregress"
   ]
  },
  {
   "attachments": {},
   "cell_type": "markdown",
   "metadata": {},
   "source": [
    "### Determine slope and intercept for McMillan flow sensors based on factory calibration data\n",
    "\n",
    "[Values for sensor 46747](/files/flow_sensor_46747_calibration.JPG)\n",
    "\n",
    "[Values for sensor 47499](/files/flow_sensor_47499_calibration.JPG)\n",
    "\n",
    "These values will go directly into the Arduino code and there shouldn't be a need to use them during data workup, as the Arduino will report flow in mL/min."
   ]
  },
  {
   "cell_type": "code",
   "execution_count": 2,
   "metadata": {},
   "outputs": [
    {
     "name": "stdout",
     "output_type": "stream",
     "text": [
      "100-3: Slope: 20.103417415227547, Intercept: 0.10905233849315721\n",
      "100-5: Slope: 96.6787554876885, Intercept: 9.410192784882554\n"
     ]
    }
   ],
   "source": [
    "#SN 46747\n",
    "flow_100_3 = pd.DataFrame(\n",
    "    {\n",
    "        'flow':[20, 50, 100],\n",
    "        'voltage':[0.90, 2.64, 4.90]\n",
    "    }\n",
    ")\n",
    "#SN 47499\n",
    "flow_100_5 = pd.DataFrame(\n",
    "    {\n",
    "        'flow':[100, 250, 500],\n",
    "        'voltage':[0.90, 2.55, 5.05]\n",
    "    }\n",
    ")\n",
    "cal_100_3 = linregress(flow_100_3['voltage'], flow_100_3['flow'])\n",
    "cal_100_5 = linregress(flow_100_5['voltage'], flow_100_5['flow'])\n",
    "print(f'100-3: Slope: {cal_100_3.slope}, Intercept: {cal_100_3.intercept}')\n",
    "print(f'100-5: Slope: {cal_100_5.slope}, Intercept: {cal_100_5.intercept}')"
   ]
  },
  {
   "attachments": {},
   "cell_type": "markdown",
   "metadata": {},
   "source": [
    "### Calibrate Apogee SO-110 moisture sensors\n",
    "\n",
    "See [Apogee SO-110 manual](/files/SO-100-200-manual.pdf) for details.\n",
    "\n",
    "Alternatively, the spreadsheet [O2-Readings-Calculator.xlsx](/files/O2-Readings-Calculator.xlsx) is directly from Apogee and can be used for the same purpose."
   ]
  },
  {
   "cell_type": "code",
   "execution_count": 3,
   "metadata": {},
   "outputs": [
    {
     "name": "stdout",
     "output_type": "stream",
     "text": [
      "['RXN00009.CSV', ' dry air', ' Sensors in sealed container with air and Drierite', '\\n']\n",
      "['RXN00010.CSV', ' atmospheric', ' Sensors open to atmosphere', '\\n']\n",
      "['RXN00011.CSV', ' wet air', ' Sensors in sealed container with water in bottom', '\\n']\n",
      "['RXN00012.CSV', ' dry N2 no humidity sensor', ' Note: this had the humidity sensor unattached. Use RXN00016 instead', '\\n']\n",
      "['RXN00015.CSV', ' wet N2', ' N2 stream through bubbler, then the two oxygen sensors, then the BME280 sensor', '\\n']\n",
      "['RXN00016.CSV', ' dry N2', ' N2 stream straight to oxygen sensors then the BME280 sesnor', '']\n"
     ]
    }
   ],
   "source": [
    "file_descriptions = Path(\".\") / \"files\" / \"calibration_files_description.txt\"\n",
    "cal_files = {}\n",
    "with open(file_descriptions, \"r\") as f:\n",
    "    for line in f:\n",
    "        line_ = line.split(\";\")\n",
    "        print(line_)"
   ]
  },
  {
   "cell_type": "code",
   "execution_count": 4,
   "metadata": {},
   "outputs": [],
   "source": [
    "dry_air = Path(\".\") / \"files\" / \"RXN00009.CSV\"\n",
    "dry_n2 = Path(\".\") / \"files\" / \"RXN00016.CSV\"\n",
    "wet_air = Path(\".\") / \"files\" / \"RXN00011.CSV\"\n",
    "wet_n2 = Path(\".\") / \"files\" / \"RXN00015.CSV\""
   ]
  },
  {
   "cell_type": "code",
   "execution_count": 5,
   "metadata": {},
   "outputs": [],
   "source": [
    "class Calibration:\n",
    "    def __init__(self, air_path: Path, n2_path: Path, selected_samples: int = 200):\n",
    "        self.full_air_df = pd.read_csv(air_path, header=0, skiprows=4)\n",
    "        self.full_n2_df = pd.read_csv(n2_path, header=0, skiprows=4)\n",
    "        self.air_df = self._selected_df(self.full_air_df, selected_samples)\n",
    "        self.n2_df = self._selected_df(self.full_n2_df, selected_samples)\n",
    "        self.oxy1_Vc = np.mean(self.air_df[\"oxy1_voltage (V)\"])\n",
    "        self.oxy2_Vc = np.mean(self.air_df[\"oxy2_voltage (V)\"])\n",
    "        self.oxy1_V0 = np.mean(self.n2_df[\"oxy1_voltage (V)\"])\n",
    "        self.oxy2_V0 = np.mean(self.n2_df[\"oxy2_voltage (V)\"])\n",
    "        self.oxy1_Tc = np.mean(self.air_df[\"oxy1_temp (C)\"])\n",
    "        self.oxy2_Tc = np.mean(self.air_df[\"oxy2_temp (C)\"])\n",
    "        self.Pc = np.mean(self.air_df[\"pressure (kPa)\"])\n",
    "        self.RH = np.mean(self.air_df[\"humidity (%)\"])\n",
    "        self.oxy1_calibration_factor = (0.2095 * self.Pc) / (self.oxy1_Vc - self.oxy1_V0)\n",
    "        self.oxy2_calibration_factor = (0.2095 * self.Pc) / (self.oxy2_Vc - self.oxy2_V0)\n",
    "        self.c1 = -0.06949\n",
    "        self.c2 = 0.001422\n",
    "        self.c3 = -0.0000008213\n",
    "\n",
    "    def _selected_df(self, df: pd.DataFrame, n: int):\n",
    "        df = df.iloc[-n:].copy()\n",
    "        df.reset_index(drop=True, inplace=True)\n",
    "        return df\n",
    "\n",
    "    def display(self):\n",
    "        print(f\"Oxy1 Vc:\\t{self.oxy1_Vc}\")\n",
    "        print(f\"Oxy2 Vc:\\t{self.oxy2_Vc}\")\n",
    "        print(f\"Oxy1 V0:\\t{self.oxy1_V0}\")\n",
    "        print(f\"Oxy2 V0:\\t{self.oxy2_V0}\")\n",
    "        print(f\"Oxy1 Tc:\\t{self.oxy1_Tc}\")\n",
    "        print(f\"Oxy2 Tc:\\t{self.oxy2_Tc}\")\n",
    "        print(f\"Pc:\\t\\t{self.Pc}\")\n",
    "        print(f\"RH:\\t\\t{self.RH}\")\n",
    "        print(f\"Oxy1 CF:\\t{self.oxy1_calibration_factor}\")\n",
    "        print(f\"Oxy2 CF:\\t{self.oxy2_calibration_factor}\")\n",
    "\n",
    "    def as_dict(self):\n",
    "        return {\n",
    "            \"oxy1\": {\n",
    "                \"Vc\": self.oxy1_Vc,\n",
    "                \"V0\": self.oxy1_V0,\n",
    "                \"Pc\": self.Pc,\n",
    "                \"RH\": self.RH,\n",
    "                \"Tc\": self.oxy1_Tc,\n",
    "                \"calibration_factor\": self.oxy1_calibration_factor,\n",
    "            },\n",
    "            \"oxy2\": {\n",
    "                \"Vc\": self.oxy2_Vc,\n",
    "                \"V0\": self.oxy2_V0,\n",
    "                \"Pc\": self.Pc,\n",
    "                \"RH\": self.RH,\n",
    "                \"Tc\": self.oxy2_Tc,\n",
    "                \"calibration_factor\": self.oxy2_calibration_factor,\n",
    "            },\n",
    "        }\n",
    "\n"
   ]
  },
  {
   "cell_type": "code",
   "execution_count": 6,
   "metadata": {},
   "outputs": [],
   "source": [
    "dry = Calibration(dry_air, dry_n2)\n",
    "wet = Calibration(wet_air, wet_n2)"
   ]
  },
  {
   "attachments": {},
   "cell_type": "markdown",
   "metadata": {},
   "source": [
    "### Dry Calibration Values"
   ]
  },
  {
   "cell_type": "code",
   "execution_count": 7,
   "metadata": {},
   "outputs": [
    {
     "name": "stdout",
     "output_type": "stream",
     "text": [
      "Oxy1 Vc:\t0.052950695000000006\n",
      "Oxy2 Vc:\t0.05059791000000002\n",
      "Oxy1 V0:\t0.0014562249999999998\n",
      "Oxy2 V0:\t0.00150478\n",
      "Oxy1 Tc:\t22.025949999999998\n",
      "Oxy2 Tc:\t22.699700000000004\n",
      "Pc:\t\t99.99825000000001\n",
      "RH:\t\t4.75015\n",
      "Oxy1 CF:\t406.83268271330877\n",
      "Oxy2 CF:\t426.73248527848995\n"
     ]
    }
   ],
   "source": [
    "dry.display()"
   ]
  },
  {
   "attachments": {},
   "cell_type": "markdown",
   "metadata": {},
   "source": [
    "### Wet Calibration Values"
   ]
  },
  {
   "cell_type": "code",
   "execution_count": 8,
   "metadata": {},
   "outputs": [
    {
     "name": "stdout",
     "output_type": "stream",
     "text": [
      "Oxy1 Vc:\t0.05166569000000001\n",
      "Oxy2 Vc:\t0.048979350000000005\n",
      "Oxy1 V0:\t0.001474925\n",
      "Oxy2 V0:\t0.0015370499999999999\n",
      "Oxy1 Tc:\t22.521099999999997\n",
      "Oxy2 Tc:\t23.3594\n",
      "Pc:\t\t100.04404999999997\n",
      "RH:\t\t100.0\n",
      "Oxy1 CF:\t417.5913332861133\n",
      "Oxy2 CF:\t441.78356603705953\n"
     ]
    }
   ],
   "source": [
    "wet.display()"
   ]
  },
  {
   "cell_type": "code",
   "execution_count": 9,
   "metadata": {},
   "outputs": [],
   "source": [
    "calibration_json = Path(\".\") / \"calibration_values.json\"\n",
    "with open(calibration_json, \"w\") as f:\n",
    "    json.dump(\n",
    "        {\"dry\": dry.as_dict(), \"wet\": wet.as_dict()}, f, indent=4, sort_keys=True\n",
    "    )"
   ]
  },
  {
   "attachments": {},
   "cell_type": "markdown",
   "metadata": {},
   "source": [
    "### Arduino Values\n",
    "\n",
    "The Arduino code uses the dry calibration values for OXY1 (to be used pre-reaction with gas straight from the cylinder(s)) and the wet calibration values for OXY2 (post-reaction). If your reaction is not in water and you need accurate post-reaction values you should use the raw voltages from the sensor and convert to %O2 using the appropriate calibration values."
   ]
  },
  {
   "attachments": {},
   "cell_type": "markdown",
   "metadata": {},
   "source": []
  }
 ],
 "metadata": {
  "kernelspec": {
   "display_name": ".rxn_monitor",
   "language": "python",
   "name": "python3"
  },
  "language_info": {
   "codemirror_mode": {
    "name": "ipython",
    "version": 3
   },
   "file_extension": ".py",
   "mimetype": "text/x-python",
   "name": "python",
   "nbconvert_exporter": "python",
   "pygments_lexer": "ipython3",
   "version": "3.11.0"
  },
  "orig_nbformat": 4
 },
 "nbformat": 4,
 "nbformat_minor": 2
}
